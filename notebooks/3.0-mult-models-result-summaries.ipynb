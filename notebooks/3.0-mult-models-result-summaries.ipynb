{
 "metadata": {
  "language_info": {
   "codemirror_mode": {
    "name": "ipython",
    "version": 3
   },
   "file_extension": ".py",
   "mimetype": "text/x-python",
   "name": "python",
   "nbconvert_exporter": "python",
   "pygments_lexer": "ipython3",
   "version": "3.8.10"
  },
  "orig_nbformat": 2,
  "kernelspec": {
   "name": "python3810jvsc74a57bd0a1dc923bd1ec92b92adf48f4490bc335f1a01d35ebaf6df1da02845d4cd7d9d8",
   "display_name": "Python 3.8.10 64-bit ('base': conda)"
  }
 },
 "nbformat": 4,
 "nbformat_minor": 2,
 "cells": [
  {
   "cell_type": "code",
   "execution_count": 1,
   "metadata": {},
   "outputs": [],
   "source": [
    "import numpy as np\n",
    "import pandas as pd"
   ]
  },
  {
   "cell_type": "code",
   "execution_count": 2,
   "metadata": {},
   "outputs": [],
   "source": [
    "with open(\"../data/processed/test.npz\", \"rb\") as f:\n",
    "    npzfile = np.load(f)\n",
    "    y_test = npzfile[\"y\"]"
   ]
  },
  {
   "cell_type": "code",
   "execution_count": 3,
   "metadata": {},
   "outputs": [],
   "source": [
    "with open(\"./machine-learning.npy\", \"rb\") as f:\n",
    "    y_ml = np.load(f)"
   ]
  },
  {
   "cell_type": "code",
   "execution_count": 4,
   "metadata": {},
   "outputs": [],
   "source": [
    "with open(\"./deep-learning.npy\", \"rb\") as f:\n",
    "    y_dl = np.load(f)"
   ]
  },
  {
   "cell_type": "code",
   "execution_count": 5,
   "metadata": {},
   "outputs": [],
   "source": [
    "y_pred = np.concatenate((y_ml, y_dl), axis=1).astype(int)"
   ]
  },
  {
   "cell_type": "code",
   "execution_count": 6,
   "metadata": {},
   "outputs": [],
   "source": [
    "models = [\"KNN\", \"Naive Bayes\", \"Decision Tree\", \"Support Vector Machines\", \"Random Forests\", \"LSTM\", \"BiLSTM\"]"
   ]
  },
  {
   "cell_type": "code",
   "execution_count": 7,
   "metadata": {},
   "outputs": [],
   "source": [
    "y_pred = pd.DataFrame(y_pred, columns=models)"
   ]
  },
  {
   "cell_type": "code",
   "execution_count": 8,
   "metadata": {},
   "outputs": [],
   "source": [
    "from sklearn.metrics import f1_score"
   ]
  },
  {
   "cell_type": "code",
   "execution_count": 9,
   "metadata": {},
   "outputs": [
    {
     "output_type": "stream",
     "name": "stdout",
     "text": [
      "90.16 0.90\n77.03 0.77\n86.16 0.86\n95.05 0.95\n92.67 0.93\n71.50 0.71\n73.29 0.72\n"
     ]
    }
   ],
   "source": [
    "for model in models:\n",
    "    acc = 1 - np.mean(y_pred[model] != y_test)\n",
    "    f1 = f1_score(y_test, y_pred[model], average='macro')\n",
    "    print(\"%.2f %.2f\" %(acc * 100, f1))"
   ]
  },
  {
   "cell_type": "code",
   "execution_count": null,
   "metadata": {},
   "outputs": [],
   "source": []
  }
 ]
}