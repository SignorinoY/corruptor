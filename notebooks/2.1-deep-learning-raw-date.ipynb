{
 "metadata": {
  "language_info": {
   "codemirror_mode": {
    "name": "ipython",
    "version": 3
   },
   "file_extension": ".py",
   "mimetype": "text/x-python",
   "name": "python",
   "nbconvert_exporter": "python",
   "pygments_lexer": "ipython3",
   "version": "3.8.10"
  },
  "orig_nbformat": 2,
  "kernelspec": {
   "name": "python3810jvsc74a57bd0a1dc923bd1ec92b92adf48f4490bc335f1a01d35ebaf6df1da02845d4cd7d9d8",
   "display_name": "Python 3.8.10 64-bit ('base': conda)"
  }
 },
 "nbformat": 4,
 "nbformat_minor": 2,
 "cells": [
  {
   "cell_type": "code",
   "execution_count": 1,
   "metadata": {},
   "outputs": [],
   "source": [
    "import pytorch_lightning as pl\n",
    "import numpy as np\n",
    "import sys  \n",
    "sys.path.insert(0, '../src/')\n",
    "\n",
    "import torch\n",
    "from data.har import HARDataModule\n",
    "from model.classfier import HARLSTMClassfier, HARBiLSTMClassfier"
   ]
  },
  {
   "cell_type": "code",
   "execution_count": 2,
   "metadata": {},
   "outputs": [
    {
     "output_type": "stream",
     "name": "stderr",
     "text": [
      "GPU available: False, used: False\n",
      "TPU available: False, using: 0 TPU cores\n"
     ]
    }
   ],
   "source": [
    "trainer = pl.Trainer()"
   ]
  },
  {
   "cell_type": "code",
   "execution_count": 3,
   "metadata": {},
   "outputs": [],
   "source": [
    "with open(\"../data/processed/test.npz\", \"rb\") as f:\n",
    "    npzfile = np.load(f)\n",
    "    X_test = torch.from_numpy(npzfile[\"X\"]).float()\n",
    "    y_test = torch.from_numpy(npzfile[\"y\"]).int()"
   ]
  },
  {
   "cell_type": "code",
   "execution_count": 4,
   "metadata": {},
   "outputs": [],
   "source": [
    "y_pred = np.zeros((y_test.shape[0], 2))"
   ]
  },
  {
   "source": [
    "## LSTM Model"
   ],
   "cell_type": "markdown",
   "metadata": {}
  },
  {
   "cell_type": "code",
   "execution_count": 5,
   "metadata": {},
   "outputs": [],
   "source": [
    "model = HARLSTMClassfier.load_from_checkpoint('../model/har-lstm-epoch=119-val_loss=0.99.ckpt')"
   ]
  },
  {
   "cell_type": "code",
   "execution_count": 6,
   "metadata": {},
   "outputs": [],
   "source": [
    "model.eval()\n",
    "outputs = model(X_test)\n",
    "_, preds = torch.max(outputs, 1)\n",
    "y_pred[:, 0] = preds.numpy()"
   ]
  },
  {
   "source": [
    "## BiLSTM Model"
   ],
   "cell_type": "markdown",
   "metadata": {}
  },
  {
   "cell_type": "code",
   "execution_count": 7,
   "metadata": {},
   "outputs": [],
   "source": [
    "model = HARBiLSTMClassfier.load_from_checkpoint('../model/har-bilstm-epoch=281-val_loss=0.56.ckpt')"
   ]
  },
  {
   "cell_type": "code",
   "execution_count": 8,
   "metadata": {},
   "outputs": [],
   "source": [
    "model.eval()\n",
    "outputs = model(X_test)\n",
    "_, preds = torch.max(outputs, 1)\n",
    "y_pred[:, 1] = preds.numpy()"
   ]
  },
  {
   "cell_type": "code",
   "execution_count": 9,
   "metadata": {},
   "outputs": [],
   "source": [
    "with open('deep-learning.npy', 'wb') as f:\n",
    "    np.save(f, y_pred)"
   ]
  }
 ]
}