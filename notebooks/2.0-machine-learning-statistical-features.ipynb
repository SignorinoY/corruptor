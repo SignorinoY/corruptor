{
 "cells": [
  {
   "cell_type": "code",
   "execution_count": 15,
   "id": "f2bbfac2",
   "metadata": {},
   "outputs": [],
   "source": [
    "import pandas as pd\n",
    "import numpy as np"
   ]
  },
  {
   "cell_type": "code",
   "execution_count": 16,
   "id": "a972cd3a",
   "metadata": {},
   "outputs": [],
   "source": [
    "DATASET_PATH = \"../data/raw/\""
   ]
  },
  {
   "cell_type": "code",
   "execution_count": 17,
   "id": "05454594",
   "metadata": {},
   "outputs": [],
   "source": [
    "LABELS = [\n",
    "    \"Walking\",\n",
    "    \"Upstairs\",\n",
    "    \"Downstairs\",\n",
    "    \"Sitting\",\n",
    "    \"Standing\",\n",
    "    \"Laying\"\n",
    "]"
   ]
  },
  {
   "source": [
    "## Load Dataset"
   ],
   "cell_type": "markdown",
   "metadata": {}
  },
  {
   "cell_type": "code",
   "execution_count": 18,
   "id": "105691ac",
   "metadata": {},
   "outputs": [],
   "source": [
    "def load_data(X_path, y_path):\n",
    "    with open(X_path, 'r') as file:\n",
    "        X_ = np.array([np.array(serie, dtype=np.float32) for serie in [row.replace('  ', ' ').strip().split(' ') for row in file]])\n",
    "    with open(y_path, 'r') as file:\n",
    "        y_ = np.array([elem for elem in [row.replace('  ', ' ').strip().split(' ') for row in file]],dtype=np.int32).T[0]\n",
    "    return X_, y_ - 1"
   ]
  },
  {
   "cell_type": "code",
   "execution_count": 19,
   "metadata": {},
   "outputs": [],
   "source": [
    "X_train, y_train = load_data(DATASET_PATH+\"train/X_train.txt\", DATASET_PATH+\"train/y_train.txt\")\n",
    "X_test, y_test = load_data(DATASET_PATH+\"test/X_test.txt\", DATASET_PATH+\"test/y_test.txt\")"
   ]
  },
  {
   "source": [
    "## Evaluate Models"
   ],
   "cell_type": "markdown",
   "metadata": {}
  },
  {
   "cell_type": "code",
   "execution_count": 20,
   "metadata": {},
   "outputs": [],
   "source": [
    "from sklearn.model_selection import StratifiedKFold\n",
    "\n",
    "from sklearn.ensemble import RandomForestClassifier, AdaBoostClassifier\n",
    "from sklearn.svm import SVC"
   ]
  },
  {
   "cell_type": "code",
   "execution_count": 21,
   "metadata": {},
   "outputs": [],
   "source": [
    "skf = StratifiedKFold(n_splits=10, shuffle=True, random_state=0)"
   ]
  },
  {
   "cell_type": "code",
   "execution_count": 22,
   "metadata": {},
   "outputs": [],
   "source": [
    "# Random Forests parameters\n",
    "rf_params = {\n",
    "    'n_jobs': -1,\n",
    "    'n_estimators': 500,\n",
    "     'warm_start': True, \n",
    "     #'max_features': 0.2,\n",
    "    'max_depth': 6,\n",
    "    'min_samples_leaf': 2,\n",
    "    'max_features' : 'sqrt',\n",
    "    'verbose': 0\n",
    "}\n",
    "\n",
    "# AdaBoost parameters\n",
    "ada_params = {\n",
    "    'n_estimators': 500,\n",
    "    'learning_rate' : 0.75\n",
    "}\n",
    "\n",
    "# Support Vector Machines parameters \n",
    "svc_params = {\n",
    "    'kernel' : 'linear',\n",
    "    'C' : 0.025\n",
    "}"
   ]
  },
  {
   "cell_type": "code",
   "execution_count": 23,
   "metadata": {},
   "outputs": [],
   "source": [
    "models = {\n",
    "    \"Random Forests\": RandomForestClassifier(**rf_params),\n",
    "    \"AdaBoost\": AdaBoostClassifier(**ada_params),\n",
    "    \"Support Vector Machines\": SVC(**svc_params)\n",
    "}"
   ]
  },
  {
   "cell_type": "code",
   "execution_count": 24,
   "metadata": {},
   "outputs": [],
   "source": [
    "n_models = len(models)\n",
    "n_test_samples, _ = X_test.shape"
   ]
  },
  {
   "cell_type": "code",
   "execution_count": 26,
   "metadata": {},
   "outputs": [
    {
     "output_type": "stream",
     "name": "stderr",
     "text": [
      "C:\\tools\\scoop\\apps\\miniconda3\\current\\lib\\site-packages\\sklearn\\ensemble\\_forest.py:369: UserWarning: Warm-start fitting without increasing n_estimators does not fit new trees.\n  warn(\"Warm-start fitting without increasing n_estimators does not \"\n"
     ]
    }
   ],
   "source": [
    "y_pred = np.zeros((n_test_samples, n_models), dtype=np.int32)\n",
    "for idx, (name, model) in enumerate(models.items()):\n",
    "    model.fit(X_train, y_train)\n",
    "    y_pred[:, idx] = model.predict(X_test)"
   ]
  },
  {
   "cell_type": "code",
   "execution_count": 27,
   "metadata": {},
   "outputs": [
    {
     "output_type": "execute_result",
     "data": {
      "text/plain": [
       "(2947, 3)"
      ]
     },
     "metadata": {},
     "execution_count": 27
    }
   ],
   "source": [
    "y_pred.shape"
   ]
  },
  {
   "cell_type": "code",
   "execution_count": 28,
   "metadata": {},
   "outputs": [],
   "source": [
    "with open('machine-learning.npy', 'wb') as f:\n",
    "    np.save(f, y_pred)"
   ]
  },
  {
   "cell_type": "code",
   "execution_count": null,
   "metadata": {},
   "outputs": [],
   "source": []
  }
 ],
 "metadata": {
  "kernelspec": {
   "name": "python3810jvsc74a57bd0a1dc923bd1ec92b92adf48f4490bc335f1a01d35ebaf6df1da02845d4cd7d9d8",
   "display_name": "Python 3.8.10 64-bit ('base': conda)"
  },
  "language_info": {
   "codemirror_mode": {
    "name": "ipython",
    "version": 3
   },
   "file_extension": ".py",
   "mimetype": "text/x-python",
   "name": "python",
   "nbconvert_exporter": "python",
   "pygments_lexer": "ipython3",
   "version": "3.8.10"
  }
 },
 "nbformat": 4,
 "nbformat_minor": 5
}