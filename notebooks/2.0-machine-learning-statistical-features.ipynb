{
 "cells": [
  {
   "cell_type": "code",
   "execution_count": 1,
   "id": "f2bbfac2",
   "metadata": {},
   "outputs": [],
   "source": [
    "import pandas as pd\n",
    "import numpy as np"
   ]
  },
  {
   "cell_type": "code",
   "execution_count": 2,
   "id": "a972cd3a",
   "metadata": {},
   "outputs": [],
   "source": [
    "DATASET_PATH = \"../data/raw/\""
   ]
  },
  {
   "cell_type": "code",
   "execution_count": 3,
   "id": "05454594",
   "metadata": {},
   "outputs": [],
   "source": [
    "LABELS = [\n",
    "    \"Walking\",\n",
    "    \"Upstairs\",\n",
    "    \"Downstairs\",\n",
    "    \"Sitting\",\n",
    "    \"Standing\",\n",
    "    \"Laying\"\n",
    "]"
   ]
  },
  {
   "source": [
    "## Load Dataset"
   ],
   "cell_type": "markdown",
   "metadata": {}
  },
  {
   "cell_type": "code",
   "execution_count": 4,
   "id": "105691ac",
   "metadata": {},
   "outputs": [],
   "source": [
    "def load_data(X_path, y_path):\n",
    "    with open(X_path, 'r') as file:\n",
    "        X_ = np.array([np.array(serie, dtype=np.float32) for serie in [row.replace('  ', ' ').strip().split(' ') for row in file]])\n",
    "    with open(y_path, 'r') as file:\n",
    "        y_ = np.array([elem for elem in [row.replace('  ', ' ').strip().split(' ') for row in file]],dtype=np.int32).T[0]\n",
    "    return X_, y_ - 1"
   ]
  },
  {
   "cell_type": "code",
   "execution_count": 5,
   "metadata": {},
   "outputs": [],
   "source": [
    "X_train, y_train = load_data(DATASET_PATH+\"train/X_train.txt\", DATASET_PATH+\"train/y_train.txt\")\n",
    "X_test, y_test = load_data(DATASET_PATH+\"test/X_test.txt\", DATASET_PATH+\"test/y_test.txt\")"
   ]
  },
  {
   "source": [
    "## Evaluate Models"
   ],
   "cell_type": "markdown",
   "metadata": {}
  },
  {
   "cell_type": "code",
   "execution_count": 6,
   "metadata": {},
   "outputs": [],
   "source": [
    "from sklearn.linear_model import LogisticRegression\n",
    "from sklearn.neighbors import KNeighborsClassifier\n",
    "from sklearn.naive_bayes import GaussianNB\n",
    "from sklearn.tree import DecisionTreeClassifier\n",
    "from sklearn.svm import SVC\n",
    "from sklearn.ensemble import RandomForestClassifier"
   ]
  },
  {
   "cell_type": "code",
   "execution_count": 7,
   "metadata": {},
   "outputs": [],
   "source": [
    "models = {\n",
    "    \"Logistic Regression\": LogisticRegression(),\n",
    "    \"KNN\": KNeighborsClassifier(),\n",
    "    \"Naive Bayes\": GaussianNB(),\n",
    "    \"Decision Tree\": DecisionTreeClassifier(),\n",
    "    \"Support Vector Machines\": SVC(),\n",
    "    \"Random Forests\": RandomForestClassifier(),\n",
    "}"
   ]
  },
  {
   "cell_type": "code",
   "execution_count": 8,
   "metadata": {},
   "outputs": [],
   "source": [
    "n_models = len(models)\n",
    "n_test_samples, _ = X_test.shape"
   ]
  },
  {
   "cell_type": "code",
   "execution_count": 9,
   "metadata": {},
   "outputs": [
    {
     "output_type": "stream",
     "name": "stderr",
     "text": [
      "C:\\tools\\scoop\\apps\\miniconda3\\current\\lib\\site-packages\\sklearn\\linear_model\\_logistic.py:763: ConvergenceWarning: lbfgs failed to converge (status=1):\nSTOP: TOTAL NO. of ITERATIONS REACHED LIMIT.\n\nIncrease the number of iterations (max_iter) or scale the data as shown in:\n    https://scikit-learn.org/stable/modules/preprocessing.html\nPlease also refer to the documentation for alternative solver options:\n    https://scikit-learn.org/stable/modules/linear_model.html#logistic-regression\n  n_iter_i = _check_optimize_result(\n"
     ]
    }
   ],
   "source": [
    "y_pred = np.zeros((n_test_samples, n_models), dtype=np.int32)\n",
    "for idx, (name, model) in enumerate(models.items()):\n",
    "    model.fit(X_train, y_train)\n",
    "    y_pred[:, idx] = model.predict(X_test)"
   ]
  },
  {
   "cell_type": "code",
   "execution_count": 10,
   "metadata": {},
   "outputs": [
    {
     "output_type": "execute_result",
     "data": {
      "text/plain": [
       "(2947, 6)"
      ]
     },
     "metadata": {},
     "execution_count": 10
    }
   ],
   "source": [
    "y_pred.shape"
   ]
  },
  {
   "cell_type": "code",
   "execution_count": 11,
   "metadata": {},
   "outputs": [],
   "source": [
    "with open('machine-learning.npy', 'wb') as f:\n",
    "    np.save(f, y_pred)"
   ]
  },
  {
   "cell_type": "code",
   "execution_count": 12,
   "metadata": {},
   "outputs": [
    {
     "output_type": "execute_result",
     "data": {
      "text/plain": [
       "array([[4, 4, 4, 4, 4, 4],\n",
       "       [4, 4, 4, 4, 4, 4],\n",
       "       [4, 4, 4, 4, 4, 4],\n",
       "       ...,\n",
       "       [1, 1, 1, 1, 1, 1],\n",
       "       [1, 1, 1, 0, 1, 1],\n",
       "       [1, 0, 1, 2, 1, 0]])"
      ]
     },
     "metadata": {},
     "execution_count": 12
    }
   ],
   "source": [
    "y_pred"
   ]
  },
  {
   "cell_type": "code",
   "execution_count": null,
   "metadata": {},
   "outputs": [],
   "source": []
  }
 ],
 "metadata": {
  "kernelspec": {
   "name": "python3810jvsc74a57bd0a1dc923bd1ec92b92adf48f4490bc335f1a01d35ebaf6df1da02845d4cd7d9d8",
   "display_name": "Python 3.8.10 64-bit ('base': conda)"
  },
  "language_info": {
   "codemirror_mode": {
    "name": "ipython",
    "version": 3
   },
   "file_extension": ".py",
   "mimetype": "text/x-python",
   "name": "python",
   "nbconvert_exporter": "python",
   "pygments_lexer": "ipython3",
   "version": "3.8.10"
  }
 },
 "nbformat": 4,
 "nbformat_minor": 5
}